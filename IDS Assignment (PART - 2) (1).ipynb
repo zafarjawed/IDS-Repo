{
 "cells": [
  {
   "cell_type": "code",
   "execution_count": 1,
   "id": "87ef77db-74c7-4c30-a7e5-df278ff0a7dd",
   "metadata": {},
   "outputs": [],
   "source": [
    "import pandas as pd"
   ]
  },
  {
   "cell_type": "code",
   "execution_count": 2,
   "id": "e3fd6f37-42a8-47d5-a2bb-5ba948bdd3ea",
   "metadata": {},
   "outputs": [],
   "source": [
    "# 1. Load Datasets"
   ]
  },
  {
   "cell_type": "code",
   "execution_count": 5,
   "id": "713c9b89-c012-4b9e-bc78-80235b7ba90d",
   "metadata": {},
   "outputs": [],
   "source": [
    "# student (dictionary)\n",
    "student = {\n",
    "    \"StudentID\" : [101, 102, 103, 104],\n",
    "    \"Name\": [\"Alice\", \"Bob\", \"Charlie\", \"David\"],\n",
    "    \"Marks\" : [85, 90, 88, 92]\n",
    "}"
   ]
  },
  {
   "cell_type": "code",
   "execution_count": 56,
   "id": "ca932cbf-5498-4c48-8a33-6903b41a297c",
   "metadata": {},
   "outputs": [],
   "source": [
    "# Load students into pandas DataFrames.\n",
    "df1 = pd.DataFrame(student)"
   ]
  },
  {
   "cell_type": "code",
   "execution_count": 58,
   "id": "cadfa4fa-0812-4161-be8b-6463256b5d17",
   "metadata": {},
   "outputs": [
    {
     "data": {
      "text/html": [
       "<div>\n",
       "<style scoped>\n",
       "    .dataframe tbody tr th:only-of-type {\n",
       "        vertical-align: middle;\n",
       "    }\n",
       "\n",
       "    .dataframe tbody tr th {\n",
       "        vertical-align: top;\n",
       "    }\n",
       "\n",
       "    .dataframe thead th {\n",
       "        text-align: right;\n",
       "    }\n",
       "</style>\n",
       "<table border=\"1\" class=\"dataframe\">\n",
       "  <thead>\n",
       "    <tr style=\"text-align: right;\">\n",
       "      <th></th>\n",
       "      <th>StudentID</th>\n",
       "      <th>Name</th>\n",
       "      <th>Marks</th>\n",
       "    </tr>\n",
       "  </thead>\n",
       "  <tbody>\n",
       "    <tr>\n",
       "      <th>0</th>\n",
       "      <td>101</td>\n",
       "      <td>Alice</td>\n",
       "      <td>85</td>\n",
       "    </tr>\n",
       "    <tr>\n",
       "      <th>1</th>\n",
       "      <td>102</td>\n",
       "      <td>Bob</td>\n",
       "      <td>90</td>\n",
       "    </tr>\n",
       "    <tr>\n",
       "      <th>2</th>\n",
       "      <td>103</td>\n",
       "      <td>Charlie</td>\n",
       "      <td>88</td>\n",
       "    </tr>\n",
       "    <tr>\n",
       "      <th>3</th>\n",
       "      <td>104</td>\n",
       "      <td>David</td>\n",
       "      <td>92</td>\n",
       "    </tr>\n",
       "  </tbody>\n",
       "</table>\n",
       "</div>"
      ],
      "text/plain": [
       "   StudentID     Name  Marks\n",
       "0        101    Alice     85\n",
       "1        102      Bob     90\n",
       "2        103  Charlie     88\n",
       "3        104    David     92"
      ]
     },
     "execution_count": 58,
     "metadata": {},
     "output_type": "execute_result"
    }
   ],
   "source": [
    "# display df1\n",
    "df1"
   ]
  },
  {
   "cell_type": "code",
   "execution_count": 11,
   "id": "8e52b939-4633-4b68-b716-4619ca735a15",
   "metadata": {},
   "outputs": [],
   "source": [
    "# details (dictionary) \n",
    "details = {\n",
    "    \"StudentID\" : [101, 102, 103, 105],\n",
    "    \"Age\" : [20, 21, 22, 19],\n",
    "    \"Grade\" : [\"A\", \"B\", \"A\", \"C\"]\n",
    "}"
   ]
  },
  {
   "cell_type": "code",
   "execution_count": 13,
   "id": "a92bb346-48d1-4d07-a1bc-a518e121fe44",
   "metadata": {},
   "outputs": [],
   "source": [
    "# Load details.csv into pandas DataFrames.\n",
    "df2 = pd.DataFrame(details)"
   ]
  },
  {
   "cell_type": "code",
   "execution_count": 15,
   "id": "d9f45b46-1f27-44a3-97f1-857905cdae23",
   "metadata": {},
   "outputs": [
    {
     "data": {
      "text/html": [
       "<div>\n",
       "<style scoped>\n",
       "    .dataframe tbody tr th:only-of-type {\n",
       "        vertical-align: middle;\n",
       "    }\n",
       "\n",
       "    .dataframe tbody tr th {\n",
       "        vertical-align: top;\n",
       "    }\n",
       "\n",
       "    .dataframe thead th {\n",
       "        text-align: right;\n",
       "    }\n",
       "</style>\n",
       "<table border=\"1\" class=\"dataframe\">\n",
       "  <thead>\n",
       "    <tr style=\"text-align: right;\">\n",
       "      <th></th>\n",
       "      <th>StudentID</th>\n",
       "      <th>Age</th>\n",
       "      <th>Grade</th>\n",
       "    </tr>\n",
       "  </thead>\n",
       "  <tbody>\n",
       "    <tr>\n",
       "      <th>0</th>\n",
       "      <td>101</td>\n",
       "      <td>20</td>\n",
       "      <td>A</td>\n",
       "    </tr>\n",
       "    <tr>\n",
       "      <th>1</th>\n",
       "      <td>102</td>\n",
       "      <td>21</td>\n",
       "      <td>B</td>\n",
       "    </tr>\n",
       "    <tr>\n",
       "      <th>2</th>\n",
       "      <td>103</td>\n",
       "      <td>22</td>\n",
       "      <td>A</td>\n",
       "    </tr>\n",
       "    <tr>\n",
       "      <th>3</th>\n",
       "      <td>105</td>\n",
       "      <td>19</td>\n",
       "      <td>C</td>\n",
       "    </tr>\n",
       "  </tbody>\n",
       "</table>\n",
       "</div>"
      ],
      "text/plain": [
       "   StudentID  Age Grade\n",
       "0        101   20     A\n",
       "1        102   21     B\n",
       "2        103   22     A\n",
       "3        105   19     C"
      ]
     },
     "execution_count": 15,
     "metadata": {},
     "output_type": "execute_result"
    }
   ],
   "source": [
    "# display df2\n",
    "df2"
   ]
  },
  {
   "cell_type": "code",
   "execution_count": 17,
   "id": "4301d7c1-c638-4f19-a160-f0364857fbdf",
   "metadata": {},
   "outputs": [],
   "source": [
    "# 2. Performing joins "
   ]
  },
  {
   "cell_type": "code",
   "execution_count": 19,
   "id": "d7feb663-14f6-4a7f-8395-0a2c08b93d47",
   "metadata": {},
   "outputs": [],
   "source": [
    "# inner join\n",
    "#inner join\n",
    "merged_df_inner = pd.merge(df1,df2,on='StudentID', how='inner')"
   ]
  },
  {
   "cell_type": "code",
   "execution_count": 44,
   "id": "caedd3ac-0a65-4c09-b0c6-a51d3bf72082",
   "metadata": {},
   "outputs": [
    {
     "data": {
      "text/html": [
       "<div>\n",
       "<style scoped>\n",
       "    .dataframe tbody tr th:only-of-type {\n",
       "        vertical-align: middle;\n",
       "    }\n",
       "\n",
       "    .dataframe tbody tr th {\n",
       "        vertical-align: top;\n",
       "    }\n",
       "\n",
       "    .dataframe thead th {\n",
       "        text-align: right;\n",
       "    }\n",
       "</style>\n",
       "<table border=\"1\" class=\"dataframe\">\n",
       "  <thead>\n",
       "    <tr style=\"text-align: right;\">\n",
       "      <th></th>\n",
       "      <th>StudentID</th>\n",
       "      <th>Name</th>\n",
       "      <th>Marks</th>\n",
       "      <th>Age</th>\n",
       "      <th>Grade</th>\n",
       "    </tr>\n",
       "  </thead>\n",
       "  <tbody>\n",
       "    <tr>\n",
       "      <th>0</th>\n",
       "      <td>101</td>\n",
       "      <td>Alice</td>\n",
       "      <td>85</td>\n",
       "      <td>20</td>\n",
       "      <td>A</td>\n",
       "    </tr>\n",
       "    <tr>\n",
       "      <th>1</th>\n",
       "      <td>102</td>\n",
       "      <td>Bob</td>\n",
       "      <td>90</td>\n",
       "      <td>21</td>\n",
       "      <td>B</td>\n",
       "    </tr>\n",
       "    <tr>\n",
       "      <th>2</th>\n",
       "      <td>103</td>\n",
       "      <td>Charlie</td>\n",
       "      <td>88</td>\n",
       "      <td>22</td>\n",
       "      <td>A</td>\n",
       "    </tr>\n",
       "  </tbody>\n",
       "</table>\n",
       "</div>"
      ],
      "text/plain": [
       "   StudentID     Name  Marks  Age Grade\n",
       "0        101    Alice     85   20     A\n",
       "1        102      Bob     90   21     B\n",
       "2        103  Charlie     88   22     A"
      ]
     },
     "execution_count": 44,
     "metadata": {},
     "output_type": "execute_result"
    }
   ],
   "source": [
    "# display merged_df_inner\n",
    "merged_df_inner\n",
    "\n",
    "\n",
    "# Inner Join (Matching records in both datasets):\n",
    "#      --> Only students present in both df1 and df2 are included.\n",
    "#      --> Excluded: Student 104 (only in df1) and Student 105 (only in df2)."
   ]
  },
  {
   "cell_type": "code",
   "execution_count": 46,
   "id": "540bcb1f-0348-454e-803e-e8f9cacdd721",
   "metadata": {},
   "outputs": [],
   "source": [
    "# left join\n",
    "merged_df_left = pd.merge(df1, df2, on='StudentID', how='left')"
   ]
  },
  {
   "cell_type": "code",
   "execution_count": 52,
   "id": "309d97e2-63c4-445d-bbfe-f9c3b3401fc5",
   "metadata": {},
   "outputs": [
    {
     "data": {
      "text/html": [
       "<div>\n",
       "<style scoped>\n",
       "    .dataframe tbody tr th:only-of-type {\n",
       "        vertical-align: middle;\n",
       "    }\n",
       "\n",
       "    .dataframe tbody tr th {\n",
       "        vertical-align: top;\n",
       "    }\n",
       "\n",
       "    .dataframe thead th {\n",
       "        text-align: right;\n",
       "    }\n",
       "</style>\n",
       "<table border=\"1\" class=\"dataframe\">\n",
       "  <thead>\n",
       "    <tr style=\"text-align: right;\">\n",
       "      <th></th>\n",
       "      <th>StudentID</th>\n",
       "      <th>Name</th>\n",
       "      <th>Marks</th>\n",
       "      <th>Age</th>\n",
       "      <th>Grade</th>\n",
       "    </tr>\n",
       "  </thead>\n",
       "  <tbody>\n",
       "    <tr>\n",
       "      <th>0</th>\n",
       "      <td>101</td>\n",
       "      <td>Alice</td>\n",
       "      <td>85</td>\n",
       "      <td>20.0</td>\n",
       "      <td>A</td>\n",
       "    </tr>\n",
       "    <tr>\n",
       "      <th>1</th>\n",
       "      <td>102</td>\n",
       "      <td>Bob</td>\n",
       "      <td>90</td>\n",
       "      <td>21.0</td>\n",
       "      <td>B</td>\n",
       "    </tr>\n",
       "    <tr>\n",
       "      <th>2</th>\n",
       "      <td>103</td>\n",
       "      <td>Charlie</td>\n",
       "      <td>88</td>\n",
       "      <td>22.0</td>\n",
       "      <td>A</td>\n",
       "    </tr>\n",
       "    <tr>\n",
       "      <th>3</th>\n",
       "      <td>104</td>\n",
       "      <td>David</td>\n",
       "      <td>92</td>\n",
       "      <td>NaN</td>\n",
       "      <td>NaN</td>\n",
       "    </tr>\n",
       "  </tbody>\n",
       "</table>\n",
       "</div>"
      ],
      "text/plain": [
       "   StudentID     Name  Marks   Age Grade\n",
       "0        101    Alice     85  20.0     A\n",
       "1        102      Bob     90  21.0     B\n",
       "2        103  Charlie     88  22.0     A\n",
       "3        104    David     92   NaN   NaN"
      ]
     },
     "execution_count": 52,
     "metadata": {},
     "output_type": "execute_result"
    }
   ],
   "source": [
    "# display merged_df_left\n",
    "merged_df_left\n",
    "\n",
    "# Left Join (All students from df1, matching details if available):\n",
    "#      --> Keeps all records from df1 and adds matching df2 data.\n",
    "#      --> Excluded: Student 105 (only in df2).\n",
    "#      --> Missing values (NaN) for Student 104 (who has no matching details)"
   ]
  },
  {
   "cell_type": "code",
   "execution_count": 48,
   "id": "ec86bae5-a948-4ca3-abed-6dda5476deba",
   "metadata": {},
   "outputs": [],
   "source": [
    "# right join\n",
    "merged_df_right = pd.merge(df1, df2, on='StudentID', how='right')"
   ]
  },
  {
   "cell_type": "code",
   "execution_count": 50,
   "id": "6c8d5c9a-6c8d-44e0-8062-27b8145103ab",
   "metadata": {},
   "outputs": [
    {
     "data": {
      "text/html": [
       "<div>\n",
       "<style scoped>\n",
       "    .dataframe tbody tr th:only-of-type {\n",
       "        vertical-align: middle;\n",
       "    }\n",
       "\n",
       "    .dataframe tbody tr th {\n",
       "        vertical-align: top;\n",
       "    }\n",
       "\n",
       "    .dataframe thead th {\n",
       "        text-align: right;\n",
       "    }\n",
       "</style>\n",
       "<table border=\"1\" class=\"dataframe\">\n",
       "  <thead>\n",
       "    <tr style=\"text-align: right;\">\n",
       "      <th></th>\n",
       "      <th>StudentID</th>\n",
       "      <th>Name</th>\n",
       "      <th>Marks</th>\n",
       "      <th>Age</th>\n",
       "      <th>Grade</th>\n",
       "    </tr>\n",
       "  </thead>\n",
       "  <tbody>\n",
       "    <tr>\n",
       "      <th>0</th>\n",
       "      <td>101</td>\n",
       "      <td>Alice</td>\n",
       "      <td>85.0</td>\n",
       "      <td>20</td>\n",
       "      <td>A</td>\n",
       "    </tr>\n",
       "    <tr>\n",
       "      <th>1</th>\n",
       "      <td>102</td>\n",
       "      <td>Bob</td>\n",
       "      <td>90.0</td>\n",
       "      <td>21</td>\n",
       "      <td>B</td>\n",
       "    </tr>\n",
       "    <tr>\n",
       "      <th>2</th>\n",
       "      <td>103</td>\n",
       "      <td>Charlie</td>\n",
       "      <td>88.0</td>\n",
       "      <td>22</td>\n",
       "      <td>A</td>\n",
       "    </tr>\n",
       "    <tr>\n",
       "      <th>3</th>\n",
       "      <td>105</td>\n",
       "      <td>NaN</td>\n",
       "      <td>NaN</td>\n",
       "      <td>19</td>\n",
       "      <td>C</td>\n",
       "    </tr>\n",
       "  </tbody>\n",
       "</table>\n",
       "</div>"
      ],
      "text/plain": [
       "   StudentID     Name  Marks  Age Grade\n",
       "0        101    Alice   85.0   20     A\n",
       "1        102      Bob   90.0   21     B\n",
       "2        103  Charlie   88.0   22     A\n",
       "3        105      NaN    NaN   19     C"
      ]
     },
     "execution_count": 50,
     "metadata": {},
     "output_type": "execute_result"
    }
   ],
   "source": [
    "# display merged_df_right\n",
    "merged_df_right\n",
    "\n",
    "#Right Join (All students from df2, matching marks if available):\n",
    "#    -->Keeps all records from df2 and adds matching df1 data.\n",
    "#    -->Excluded: Student 104 (only in df1).\n",
    "#    -->Missing values (NaN) for Student 105 (who has no marks data)."
   ]
  },
  {
   "cell_type": "code",
   "execution_count": 32,
   "id": "10838b40-a260-42af-9ff2-5a99a6fae141",
   "metadata": {},
   "outputs": [],
   "source": [
    "# outer join\n",
    "merged_df_outer = pd.merge(df1, df2, on='StudentID', how='outer')"
   ]
  },
  {
   "cell_type": "code",
   "execution_count": 36,
   "id": "dd1d2eac-21b7-414c-b180-c073bb6c1dca",
   "metadata": {},
   "outputs": [
    {
     "data": {
      "text/html": [
       "<div>\n",
       "<style scoped>\n",
       "    .dataframe tbody tr th:only-of-type {\n",
       "        vertical-align: middle;\n",
       "    }\n",
       "\n",
       "    .dataframe tbody tr th {\n",
       "        vertical-align: top;\n",
       "    }\n",
       "\n",
       "    .dataframe thead th {\n",
       "        text-align: right;\n",
       "    }\n",
       "</style>\n",
       "<table border=\"1\" class=\"dataframe\">\n",
       "  <thead>\n",
       "    <tr style=\"text-align: right;\">\n",
       "      <th></th>\n",
       "      <th>StudentID</th>\n",
       "      <th>Name</th>\n",
       "      <th>Marks</th>\n",
       "      <th>Age</th>\n",
       "      <th>Grade</th>\n",
       "    </tr>\n",
       "  </thead>\n",
       "  <tbody>\n",
       "    <tr>\n",
       "      <th>0</th>\n",
       "      <td>101</td>\n",
       "      <td>Alice</td>\n",
       "      <td>85.0</td>\n",
       "      <td>20.0</td>\n",
       "      <td>A</td>\n",
       "    </tr>\n",
       "    <tr>\n",
       "      <th>1</th>\n",
       "      <td>102</td>\n",
       "      <td>Bob</td>\n",
       "      <td>90.0</td>\n",
       "      <td>21.0</td>\n",
       "      <td>B</td>\n",
       "    </tr>\n",
       "    <tr>\n",
       "      <th>2</th>\n",
       "      <td>103</td>\n",
       "      <td>Charlie</td>\n",
       "      <td>88.0</td>\n",
       "      <td>22.0</td>\n",
       "      <td>A</td>\n",
       "    </tr>\n",
       "    <tr>\n",
       "      <th>3</th>\n",
       "      <td>104</td>\n",
       "      <td>David</td>\n",
       "      <td>92.0</td>\n",
       "      <td>NaN</td>\n",
       "      <td>NaN</td>\n",
       "    </tr>\n",
       "    <tr>\n",
       "      <th>4</th>\n",
       "      <td>105</td>\n",
       "      <td>NaN</td>\n",
       "      <td>NaN</td>\n",
       "      <td>19.0</td>\n",
       "      <td>C</td>\n",
       "    </tr>\n",
       "  </tbody>\n",
       "</table>\n",
       "</div>"
      ],
      "text/plain": [
       "   StudentID     Name  Marks   Age Grade\n",
       "0        101    Alice   85.0  20.0     A\n",
       "1        102      Bob   90.0  21.0     B\n",
       "2        103  Charlie   88.0  22.0     A\n",
       "3        104    David   92.0   NaN   NaN\n",
       "4        105      NaN    NaN  19.0     C"
      ]
     },
     "execution_count": 36,
     "metadata": {},
     "output_type": "execute_result"
    }
   ],
   "source": [
    "# display merged_df_outer\n",
    "merged_df_outer\n",
    "\n",
    "#Outer Join (All students from both datasets):\n",
    "#    -->Includes all students, whether they are in students.csv or details.csv.\n",
    "#    -->Missing values (NaN) for Student 104 (no details) and Student 105 (no marks)"
   ]
  },
  {
   "cell_type": "code",
   "execution_count": 60,
   "id": "6d009995-ace5-4e6f-b9a7-894632707c43",
   "metadata": {},
   "outputs": [],
   "source": [
    "# 3. Set index"
   ]
  },
  {
   "cell_type": "code",
   "execution_count": 68,
   "id": "8a18179f-8af3-49f6-a5e9-62948c7985f6",
   "metadata": {},
   "outputs": [],
   "source": [
    "# Set StudentID as the index for the merged DataFrame.\n",
    "outer_join_indexed = merged_df_outer.set_index(\"StudentID\")"
   ]
  },
  {
   "cell_type": "code",
   "execution_count": 72,
   "id": "2c211293-6cd6-4bb7-9dc1-bf7ab6838397",
   "metadata": {},
   "outputs": [
    {
     "data": {
      "text/html": [
       "<div>\n",
       "<style scoped>\n",
       "    .dataframe tbody tr th:only-of-type {\n",
       "        vertical-align: middle;\n",
       "    }\n",
       "\n",
       "    .dataframe tbody tr th {\n",
       "        vertical-align: top;\n",
       "    }\n",
       "\n",
       "    .dataframe thead th {\n",
       "        text-align: right;\n",
       "    }\n",
       "</style>\n",
       "<table border=\"1\" class=\"dataframe\">\n",
       "  <thead>\n",
       "    <tr style=\"text-align: right;\">\n",
       "      <th></th>\n",
       "      <th>Name</th>\n",
       "      <th>Marks</th>\n",
       "      <th>Age</th>\n",
       "      <th>Grade</th>\n",
       "    </tr>\n",
       "    <tr>\n",
       "      <th>StudentID</th>\n",
       "      <th></th>\n",
       "      <th></th>\n",
       "      <th></th>\n",
       "      <th></th>\n",
       "    </tr>\n",
       "  </thead>\n",
       "  <tbody>\n",
       "    <tr>\n",
       "      <th>101</th>\n",
       "      <td>Alice</td>\n",
       "      <td>85.0</td>\n",
       "      <td>20.0</td>\n",
       "      <td>A</td>\n",
       "    </tr>\n",
       "    <tr>\n",
       "      <th>102</th>\n",
       "      <td>Bob</td>\n",
       "      <td>90.0</td>\n",
       "      <td>21.0</td>\n",
       "      <td>B</td>\n",
       "    </tr>\n",
       "    <tr>\n",
       "      <th>103</th>\n",
       "      <td>Charlie</td>\n",
       "      <td>88.0</td>\n",
       "      <td>22.0</td>\n",
       "      <td>A</td>\n",
       "    </tr>\n",
       "    <tr>\n",
       "      <th>104</th>\n",
       "      <td>David</td>\n",
       "      <td>92.0</td>\n",
       "      <td>NaN</td>\n",
       "      <td>NaN</td>\n",
       "    </tr>\n",
       "    <tr>\n",
       "      <th>105</th>\n",
       "      <td>NaN</td>\n",
       "      <td>NaN</td>\n",
       "      <td>19.0</td>\n",
       "      <td>C</td>\n",
       "    </tr>\n",
       "  </tbody>\n",
       "</table>\n",
       "</div>"
      ],
      "text/plain": [
       "              Name  Marks   Age Grade\n",
       "StudentID                            \n",
       "101          Alice   85.0  20.0     A\n",
       "102            Bob   90.0  21.0     B\n",
       "103        Charlie   88.0  22.0     A\n",
       "104          David   92.0   NaN   NaN\n",
       "105            NaN    NaN  19.0     C"
      ]
     },
     "execution_count": 72,
     "metadata": {},
     "output_type": "execute_result"
    }
   ],
   "source": [
    "# display outer_join_indexed\n",
    "outer_join_indexed"
   ]
  },
  {
   "cell_type": "code",
   "execution_count": 80,
   "id": "4c3de03f-f73e-4b19-92ea-d3d0d377dbbf",
   "metadata": {},
   "outputs": [],
   "source": [
    "#Reset the index back to default.\n",
    "outer_join_reindexed = outer_join_indexed.reset_index()"
   ]
  },
  {
   "cell_type": "code",
   "execution_count": 84,
   "id": "1e59b668-f3b0-4d0c-a6bd-8f7a40d26049",
   "metadata": {},
   "outputs": [
    {
     "data": {
      "text/html": [
       "<div>\n",
       "<style scoped>\n",
       "    .dataframe tbody tr th:only-of-type {\n",
       "        vertical-align: middle;\n",
       "    }\n",
       "\n",
       "    .dataframe tbody tr th {\n",
       "        vertical-align: top;\n",
       "    }\n",
       "\n",
       "    .dataframe thead th {\n",
       "        text-align: right;\n",
       "    }\n",
       "</style>\n",
       "<table border=\"1\" class=\"dataframe\">\n",
       "  <thead>\n",
       "    <tr style=\"text-align: right;\">\n",
       "      <th></th>\n",
       "      <th>StudentID</th>\n",
       "      <th>Name</th>\n",
       "      <th>Marks</th>\n",
       "      <th>Age</th>\n",
       "      <th>Grade</th>\n",
       "    </tr>\n",
       "  </thead>\n",
       "  <tbody>\n",
       "    <tr>\n",
       "      <th>0</th>\n",
       "      <td>101</td>\n",
       "      <td>Alice</td>\n",
       "      <td>85.0</td>\n",
       "      <td>20.0</td>\n",
       "      <td>A</td>\n",
       "    </tr>\n",
       "    <tr>\n",
       "      <th>1</th>\n",
       "      <td>102</td>\n",
       "      <td>Bob</td>\n",
       "      <td>90.0</td>\n",
       "      <td>21.0</td>\n",
       "      <td>B</td>\n",
       "    </tr>\n",
       "    <tr>\n",
       "      <th>2</th>\n",
       "      <td>103</td>\n",
       "      <td>Charlie</td>\n",
       "      <td>88.0</td>\n",
       "      <td>22.0</td>\n",
       "      <td>A</td>\n",
       "    </tr>\n",
       "    <tr>\n",
       "      <th>3</th>\n",
       "      <td>104</td>\n",
       "      <td>David</td>\n",
       "      <td>92.0</td>\n",
       "      <td>NaN</td>\n",
       "      <td>NaN</td>\n",
       "    </tr>\n",
       "    <tr>\n",
       "      <th>4</th>\n",
       "      <td>105</td>\n",
       "      <td>NaN</td>\n",
       "      <td>NaN</td>\n",
       "      <td>19.0</td>\n",
       "      <td>C</td>\n",
       "    </tr>\n",
       "  </tbody>\n",
       "</table>\n",
       "</div>"
      ],
      "text/plain": [
       "   StudentID     Name  Marks   Age Grade\n",
       "0        101    Alice   85.0  20.0     A\n",
       "1        102      Bob   90.0  21.0     B\n",
       "2        103  Charlie   88.0  22.0     A\n",
       "3        104    David   92.0   NaN   NaN\n",
       "4        105      NaN    NaN  19.0     C"
      ]
     },
     "execution_count": 84,
     "metadata": {},
     "output_type": "execute_result"
    }
   ],
   "source": [
    "# display outer_join_reindexed\n",
    "outer_join_reindexed"
   ]
  },
  {
   "cell_type": "code",
   "execution_count": 87,
   "id": "85548a1d-6f47-4877-8b68-b46feb41c6df",
   "metadata": {},
   "outputs": [],
   "source": [
    "# 4. Save the Results"
   ]
  },
  {
   "cell_type": "code",
   "execution_count": 93,
   "id": "a59ff6d9-5cb2-4c2d-979f-9fe5524018bd",
   "metadata": {},
   "outputs": [],
   "source": [
    "#Save the result of the outer join (merged_df_outer) to a new CSV file called merged_students_details.csv.\n",
    "merged_df_outer.to_csv(\"merged_students_details.csv\", index=False)"
   ]
  },
  {
   "cell_type": "code",
   "execution_count": null,
   "id": "49e8496a-88f5-4cf4-8667-6abeb3d6cebd",
   "metadata": {},
   "outputs": [],
   "source": []
  }
 ],
 "metadata": {
  "kernelspec": {
   "display_name": "Python 3 (ipykernel)",
   "language": "python",
   "name": "python3"
  },
  "language_info": {
   "codemirror_mode": {
    "name": "ipython",
    "version": 3
   },
   "file_extension": ".py",
   "mimetype": "text/x-python",
   "name": "python",
   "nbconvert_exporter": "python",
   "pygments_lexer": "ipython3",
   "version": "3.12.4"
  }
 },
 "nbformat": 4,
 "nbformat_minor": 5
}
