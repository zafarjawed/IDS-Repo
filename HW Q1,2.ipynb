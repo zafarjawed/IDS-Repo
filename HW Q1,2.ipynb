{
 "cells": [
  {
   "cell_type": "code",
   "execution_count": 3,
   "id": "3693d1a6-0e6a-4206-99cc-a955028d18cc",
   "metadata": {},
   "outputs": [],
   "source": [
    "import pandas as pd"
   ]
  },
  {
   "cell_type": "code",
   "execution_count": null,
   "id": "2948bbef-758c-4d43-ba72-fc972b8980a3",
   "metadata": {},
   "outputs": [],
   "source": [
    "#QUESTION 1"
   ]
  },
  {
   "cell_type": "code",
   "execution_count": 4,
   "id": "a27e2fe9-6b74-46f2-bbc6-961b06975113",
   "metadata": {},
   "outputs": [],
   "source": [
    "employee_data = {\n",
    "    'Employee ID': [101, 102, 103, 104, 105],\n",
    "    'Name': ['Alice', 'Bob', 'Charlie', 'David', 'Eve'],\n",
    "    'Age': [25, 30, 35, 40, 45],\n",
    "    'Department': ['HR', 'Engineering', 'Marketing', 'Finance', 'Sales'],\n",
    "    'Salary': [50000, 60000, 55000, 58000, 62000]\n",
    "}"
   ]
  },
  {
   "cell_type": "code",
   "execution_count": 9,
   "id": "fa1294cd-85bd-4a30-84f9-259e3d374ecc",
   "metadata": {},
   "outputs": [],
   "source": [
    "df = pd.DataFrame(employee_data)"
   ]
  },
  {
   "cell_type": "code",
   "execution_count": 10,
   "id": "70c3e921-9598-4e1e-b5ef-56d09be10e59",
   "metadata": {},
   "outputs": [
    {
     "name": "stdout",
     "output_type": "stream",
     "text": [
      "First 5 records:\n",
      "   Employee ID     Name  Age   Department  Salary\n",
      "0          101    Alice   25           HR   50000\n",
      "1          102      Bob   30  Engineering   60000\n",
      "2          103  Charlie   35    Marketing   55000\n",
      "3          104    David   40      Finance   58000\n",
      "4          105      Eve   45        Sales   62000\n"
     ]
    }
   ],
   "source": [
    "print(\"First 5 records:\")\n",
    "print(df.head())"
   ]
  },
  {
   "cell_type": "code",
   "execution_count": 11,
   "id": "e8ca60dd-7c39-49fe-af39-2da1b959d72f",
   "metadata": {},
   "outputs": [
    {
     "name": "stdout",
     "output_type": "stream",
     "text": [
      "\n",
      "Basic dataset information:\n",
      "<class 'pandas.core.frame.DataFrame'>\n",
      "RangeIndex: 5 entries, 0 to 4\n",
      "Data columns (total 5 columns):\n",
      " #   Column       Non-Null Count  Dtype \n",
      "---  ------       --------------  ----- \n",
      " 0   Employee ID  5 non-null      int64 \n",
      " 1   Name         5 non-null      object\n",
      " 2   Age          5 non-null      int64 \n",
      " 3   Department   5 non-null      object\n",
      " 4   Salary       5 non-null      int64 \n",
      "dtypes: int64(3), object(2)\n",
      "memory usage: 332.0+ bytes\n",
      "None\n"
     ]
    }
   ],
   "source": [
    "print(\"Basic dataset information:\")\n",
    "print(df.info())"
   ]
  },
  {
   "cell_type": "code",
   "execution_count": 12,
   "id": "a0ae927d-7bde-4c58-ad93-e45b1b2e5af2",
   "metadata": {},
   "outputs": [
    {
     "name": "stdout",
     "output_type": "stream",
     "text": [
      "\n",
      "Summary statistics:\n",
      "       Employee ID        Age       Salary\n",
      "count     5.000000   5.000000      5.00000\n",
      "mean    103.000000  35.000000  57000.00000\n",
      "std       1.581139   7.905694   4690.41576\n",
      "min     101.000000  25.000000  50000.00000\n",
      "25%     102.000000  30.000000  55000.00000\n",
      "50%     103.000000  35.000000  58000.00000\n",
      "75%     104.000000  40.000000  60000.00000\n",
      "max     105.000000  45.000000  62000.00000\n"
     ]
    }
   ],
   "source": [
    "print(\"Summary statistics:\")\n",
    "print(df.describe())"
   ]
  },
  {
   "cell_type": "code",
   "execution_count": null,
   "id": "f2023b71-9e56-4dc8-9c9a-c33109c640a2",
   "metadata": {},
   "outputs": [],
   "source": [
    "#QUESTION 2"
   ]
  },
  {
   "cell_type": "code",
   "execution_count": 13,
   "id": "6b40c678-2f78-4876-b819-ed8ec7fa78f1",
   "metadata": {},
   "outputs": [],
   "source": [
    "file_path = \"sample_data.csv\"  # Update this with the actual file path\n",
    "df = pd.read_csv(r\"C:\\Users\\MD ZAFAR\\Downloads\\customers.csv\")"
   ]
  },
  {
   "cell_type": "code",
   "execution_count": 14,
   "id": "01d5bd6c-c348-4443-8c4f-3fd665231dc5",
   "metadata": {},
   "outputs": [
    {
     "name": "stdout",
     "output_type": "stream",
     "text": [
      "Missing values in each column:\n",
      "CustomerID    0\n",
      "Name          0\n",
      "Age           0\n",
      "Location      0\n",
      "TotalSpent    0\n",
      "dtype: int64\n"
     ]
    }
   ],
   "source": [
    "missing_values = df.isnull().sum()\n",
    "print(\"Missing values in each column:\")\n",
    "print(missing_values)"
   ]
  },
  {
   "cell_type": "code",
   "execution_count": 15,
   "id": "4c917636-40b0-4555-94cd-2ec3992f1ef6",
   "metadata": {},
   "outputs": [
    {
     "name": "stdout",
     "output_type": "stream",
     "text": [
      "Number of unique values in each column:\n",
      "CustomerID    5\n",
      "Name          5\n",
      "Age           5\n",
      "Location      5\n",
      "TotalSpent    4\n",
      "dtype: int64\n"
     ]
    }
   ],
   "source": [
    "unique_values = df.nunique()\n",
    "print(\"Number of unique values in each column:\")\n",
    "print(unique_values)"
   ]
  },
  {
   "cell_type": "code",
   "execution_count": 16,
   "id": "3ccbc003-025d-4846-8c3c-02f91f7696fd",
   "metadata": {},
   "outputs": [
    {
     "name": "stdout",
     "output_type": "stream",
     "text": [
      "Cleaned data saved to cleaned_data.csv\n"
     ]
    }
   ],
   "source": [
    "cleaned_file_path = \"cleaned_data.csv\"\n",
    "df.to_csv(cleaned_file_path, index=False)\n",
    "print(\"Cleaned data saved to\",cleaned_file_path)"
   ]
  }
 ],
 "metadata": {
  "kernelspec": {
   "display_name": "Python 3 (ipykernel)",
   "language": "python",
   "name": "python3"
  },
  "language_info": {
   "codemirror_mode": {
    "name": "ipython",
    "version": 3
   },
   "file_extension": ".py",
   "mimetype": "text/x-python",
   "name": "python",
   "nbconvert_exporter": "python",
   "pygments_lexer": "ipython3",
   "version": "3.12.4"
  }
 },
 "nbformat": 4,
 "nbformat_minor": 5
}
